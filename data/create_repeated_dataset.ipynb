{
 "cells": [
  {
   "cell_type": "code",
   "execution_count": null,
   "metadata": {},
   "outputs": [],
   "source": [
    "import pandas as pd\n",
    "from IPython.display import Markdown as md"
   ]
  },
  {
   "cell_type": "code",
   "execution_count": 13,
   "id": "e55e3c77",
   "metadata": {},
   "outputs": [
    {
     "data": {
      "text/html": [
       "<div>\n",
       "<style scoped>\n",
       "    .dataframe tbody tr th:only-of-type {\n",
       "        vertical-align: middle;\n",
       "    }\n",
       "\n",
       "    .dataframe tbody tr th {\n",
       "        vertical-align: top;\n",
       "    }\n",
       "\n",
       "    .dataframe thead th {\n",
       "        text-align: right;\n",
       "    }\n",
       "</style>\n",
       "<table border=\"1\" class=\"dataframe\">\n",
       "  <thead>\n",
       "    <tr style=\"text-align: right;\">\n",
       "      <th></th>\n",
       "      <th>data_source</th>\n",
       "      <th>prompt</th>\n",
       "      <th>ability</th>\n",
       "      <th>reward_model</th>\n",
       "      <th>extra_info</th>\n",
       "    </tr>\n",
       "  </thead>\n",
       "  <tbody>\n",
       "    <tr>\n",
       "      <th>0</th>\n",
       "      <td>openai/gsm8k</td>\n",
       "      <td>[{'content': 'Janet’s ducks lay 16 eggs per da...</td>\n",
       "      <td>math</td>\n",
       "      <td>{'ground_truth': '18', 'style': 'rule'}</td>\n",
       "      <td>{'answer': 'Janet sells 16 - 3 - 4 = &lt;&lt;16-3-4=...</td>\n",
       "    </tr>\n",
       "    <tr>\n",
       "      <th>1</th>\n",
       "      <td>openai/gsm8k</td>\n",
       "      <td>[{'content': 'A robe takes 2 bolts of blue fib...</td>\n",
       "      <td>math</td>\n",
       "      <td>{'ground_truth': '3', 'style': 'rule'}</td>\n",
       "      <td>{'answer': 'It takes 2/2=&lt;&lt;2/2=1&gt;&gt;1 bolt of wh...</td>\n",
       "    </tr>\n",
       "    <tr>\n",
       "      <th>2</th>\n",
       "      <td>openai/gsm8k</td>\n",
       "      <td>[{'content': 'Josh decides to try flipping a h...</td>\n",
       "      <td>math</td>\n",
       "      <td>{'ground_truth': '70000', 'style': 'rule'}</td>\n",
       "      <td>{'answer': 'The cost of the house and repairs ...</td>\n",
       "    </tr>\n",
       "    <tr>\n",
       "      <th>3</th>\n",
       "      <td>openai/gsm8k</td>\n",
       "      <td>[{'content': 'James decides to run 3 sprints 3...</td>\n",
       "      <td>math</td>\n",
       "      <td>{'ground_truth': '540', 'style': 'rule'}</td>\n",
       "      <td>{'answer': 'He sprints 3*3=&lt;&lt;3*3=9&gt;&gt;9 times\n",
       "So...</td>\n",
       "    </tr>\n",
       "    <tr>\n",
       "      <th>4</th>\n",
       "      <td>openai/gsm8k</td>\n",
       "      <td>[{'content': 'Every day, Wendi feeds each of h...</td>\n",
       "      <td>math</td>\n",
       "      <td>{'ground_truth': '20', 'style': 'rule'}</td>\n",
       "      <td>{'answer': 'If each chicken eats 3 cups of fee...</td>\n",
       "    </tr>\n",
       "  </tbody>\n",
       "</table>\n",
       "</div>"
      ],
      "text/plain": [
       "    data_source                                             prompt ability  \\\n",
       "0  openai/gsm8k  [{'content': 'Janet’s ducks lay 16 eggs per da...    math   \n",
       "1  openai/gsm8k  [{'content': 'A robe takes 2 bolts of blue fib...    math   \n",
       "2  openai/gsm8k  [{'content': 'Josh decides to try flipping a h...    math   \n",
       "3  openai/gsm8k  [{'content': 'James decides to run 3 sprints 3...    math   \n",
       "4  openai/gsm8k  [{'content': 'Every day, Wendi feeds each of h...    math   \n",
       "\n",
       "                                 reward_model  \\\n",
       "0     {'ground_truth': '18', 'style': 'rule'}   \n",
       "1      {'ground_truth': '3', 'style': 'rule'}   \n",
       "2  {'ground_truth': '70000', 'style': 'rule'}   \n",
       "3    {'ground_truth': '540', 'style': 'rule'}   \n",
       "4     {'ground_truth': '20', 'style': 'rule'}   \n",
       "\n",
       "                                          extra_info  \n",
       "0  {'answer': 'Janet sells 16 - 3 - 4 = <<16-3-4=...  \n",
       "1  {'answer': 'It takes 2/2=<<2/2=1>>1 bolt of wh...  \n",
       "2  {'answer': 'The cost of the house and repairs ...  \n",
       "3  {'answer': 'He sprints 3*3=<<3*3=9>>9 times\n",
       "So...  \n",
       "4  {'answer': 'If each chicken eats 3 cups of fee...  "
      ]
     },
     "execution_count": 13,
     "metadata": {},
     "output_type": "execute_result"
    }
   ],
   "source": [
    "parquet_file_path='/home/aiops/chenxw/verl/data/gsm8k/test.parquet'\n",
    "\n",
    "df = pd.read_parquet(parquet_file_path, engine='pyarrow')\n",
    "df.head()"
   ]
  },
  {
   "cell_type": "code",
   "execution_count": 10,
   "id": "c7961775",
   "metadata": {},
   "outputs": [
    {
     "name": "stdout",
     "output_type": "stream",
     "text": [
      "Define $f(x)=|| x|-\\tfrac{1}{2}|$ and $g(x)=|| x|-\\tfrac{1}{4}|$. Find the number of intersections of the graphs of \\[y=4 g(f(\\sin (2 \\pi x))) \\quad\\text{ and }\\quad x=4 g(f(\\cos (3 \\pi y))).\\]\n"
     ]
    },
    {
     "data": {
      "text/markdown": [
       "Define $f(x)=|| x|-\\tfrac{1}{2}|$ and $g(x)=|| x|-\\tfrac{1}{4}|$. Find the number of intersections of the graphs of \\[y=4 g(f(\\sin (2 \\pi x))) \\quad\\text{ and }\\quad x=4 g(f(\\cos (3 \\pi y))).\\]"
      ],
      "text/plain": [
       "<IPython.core.display.Markdown object>"
      ]
     },
     "execution_count": 10,
     "metadata": {},
     "output_type": "execute_result"
    }
   ],
   "source": [
    "print(df.prompt[0][0]['content'])\n",
    "md(df.prompt[0][0]['content'])"
   ]
  },
  {
   "cell_type": "code",
   "execution_count": 17,
   "id": "09e22f42",
   "metadata": {},
   "outputs": [],
   "source": [
    "result_data = []\n",
    "for _, row in df.iterrows():\n",
    "    # row.prompt[0]['content'] = 'Define $f(x)=|| x|-\\\\tfrac{1}{2}|$ and $g(x)=|| x|-\\\\tfrac{1}{4}|$. Find the number of intersections of the graphs of \\\\[y=4 g(f(\\\\sin (2 \\\\pi x))) \\\\quad\\\\text{ and }\\\\quad x=4 g(f(\\\\cos (3 \\\\pi y))).\\\\]'\n",
    "    row.data_source = \"deepscaler_true\"\n",
    "    row.reward_model['ground_truth']=r'8\\sqrt[3]{4}'\n",
    "    result_data.append(row)\n",
    "    break\n",
    "filtered_df = pd.DataFrame(result_data)\n",
    "repeated_dfs = [filtered_df] * 128\n",
    "filtered_df = pd.concat(repeated_dfs, ignore_index=True)"
   ]
  },
  {
   "cell_type": "code",
   "execution_count": 19,
   "id": "f97ad1a2",
   "metadata": {},
   "outputs": [
    {
     "data": {
      "text/html": [
       "<div>\n",
       "<style scoped>\n",
       "    .dataframe tbody tr th:only-of-type {\n",
       "        vertical-align: middle;\n",
       "    }\n",
       "\n",
       "    .dataframe tbody tr th {\n",
       "        vertical-align: top;\n",
       "    }\n",
       "\n",
       "    .dataframe thead th {\n",
       "        text-align: right;\n",
       "    }\n",
       "</style>\n",
       "<table border=\"1\" class=\"dataframe\">\n",
       "  <thead>\n",
       "    <tr style=\"text-align: right;\">\n",
       "      <th></th>\n",
       "      <th>data_source</th>\n",
       "      <th>prompt</th>\n",
       "      <th>ability</th>\n",
       "      <th>reward_model</th>\n",
       "      <th>extra_info</th>\n",
       "    </tr>\n",
       "  </thead>\n",
       "  <tbody>\n",
       "    <tr>\n",
       "      <th>0</th>\n",
       "      <td>deepscaler_true</td>\n",
       "      <td>[{'content': 'The pressure \\( P \\) exerted by ...</td>\n",
       "      <td>math</td>\n",
       "      <td>{'ground_truth': '8\\sqrt[3]{4}', 'style': 'rule'}</td>\n",
       "      <td>{'index': 124, 'split': 'train'}</td>\n",
       "    </tr>\n",
       "    <tr>\n",
       "      <th>1</th>\n",
       "      <td>deepscaler_true</td>\n",
       "      <td>[{'content': 'The pressure \\( P \\) exerted by ...</td>\n",
       "      <td>math</td>\n",
       "      <td>{'ground_truth': '8\\sqrt[3]{4}', 'style': 'rule'}</td>\n",
       "      <td>{'index': 124, 'split': 'train'}</td>\n",
       "    </tr>\n",
       "    <tr>\n",
       "      <th>2</th>\n",
       "      <td>deepscaler_true</td>\n",
       "      <td>[{'content': 'The pressure \\( P \\) exerted by ...</td>\n",
       "      <td>math</td>\n",
       "      <td>{'ground_truth': '8\\sqrt[3]{4}', 'style': 'rule'}</td>\n",
       "      <td>{'index': 124, 'split': 'train'}</td>\n",
       "    </tr>\n",
       "    <tr>\n",
       "      <th>3</th>\n",
       "      <td>deepscaler_true</td>\n",
       "      <td>[{'content': 'The pressure \\( P \\) exerted by ...</td>\n",
       "      <td>math</td>\n",
       "      <td>{'ground_truth': '8\\sqrt[3]{4}', 'style': 'rule'}</td>\n",
       "      <td>{'index': 124, 'split': 'train'}</td>\n",
       "    </tr>\n",
       "    <tr>\n",
       "      <th>4</th>\n",
       "      <td>deepscaler_true</td>\n",
       "      <td>[{'content': 'The pressure \\( P \\) exerted by ...</td>\n",
       "      <td>math</td>\n",
       "      <td>{'ground_truth': '8\\sqrt[3]{4}', 'style': 'rule'}</td>\n",
       "      <td>{'index': 124, 'split': 'train'}</td>\n",
       "    </tr>\n",
       "    <tr>\n",
       "      <th>...</th>\n",
       "      <td>...</td>\n",
       "      <td>...</td>\n",
       "      <td>...</td>\n",
       "      <td>...</td>\n",
       "      <td>...</td>\n",
       "    </tr>\n",
       "    <tr>\n",
       "      <th>123</th>\n",
       "      <td>deepscaler_true</td>\n",
       "      <td>[{'content': 'The pressure \\( P \\) exerted by ...</td>\n",
       "      <td>math</td>\n",
       "      <td>{'ground_truth': '8\\sqrt[3]{4}', 'style': 'rule'}</td>\n",
       "      <td>{'index': 124, 'split': 'train'}</td>\n",
       "    </tr>\n",
       "    <tr>\n",
       "      <th>124</th>\n",
       "      <td>deepscaler_true</td>\n",
       "      <td>[{'content': 'The pressure \\( P \\) exerted by ...</td>\n",
       "      <td>math</td>\n",
       "      <td>{'ground_truth': '8\\sqrt[3]{4}', 'style': 'rule'}</td>\n",
       "      <td>{'index': 124, 'split': 'train'}</td>\n",
       "    </tr>\n",
       "    <tr>\n",
       "      <th>125</th>\n",
       "      <td>deepscaler_true</td>\n",
       "      <td>[{'content': 'The pressure \\( P \\) exerted by ...</td>\n",
       "      <td>math</td>\n",
       "      <td>{'ground_truth': '8\\sqrt[3]{4}', 'style': 'rule'}</td>\n",
       "      <td>{'index': 124, 'split': 'train'}</td>\n",
       "    </tr>\n",
       "    <tr>\n",
       "      <th>126</th>\n",
       "      <td>deepscaler_true</td>\n",
       "      <td>[{'content': 'The pressure \\( P \\) exerted by ...</td>\n",
       "      <td>math</td>\n",
       "      <td>{'ground_truth': '8\\sqrt[3]{4}', 'style': 'rule'}</td>\n",
       "      <td>{'index': 124, 'split': 'train'}</td>\n",
       "    </tr>\n",
       "    <tr>\n",
       "      <th>127</th>\n",
       "      <td>deepscaler_true</td>\n",
       "      <td>[{'content': 'The pressure \\( P \\) exerted by ...</td>\n",
       "      <td>math</td>\n",
       "      <td>{'ground_truth': '8\\sqrt[3]{4}', 'style': 'rule'}</td>\n",
       "      <td>{'index': 124, 'split': 'train'}</td>\n",
       "    </tr>\n",
       "  </tbody>\n",
       "</table>\n",
       "<p>128 rows × 5 columns</p>\n",
       "</div>"
      ],
      "text/plain": [
       "         data_source                                             prompt  \\\n",
       "0    deepscaler_true  [{'content': 'The pressure \\( P \\) exerted by ...   \n",
       "1    deepscaler_true  [{'content': 'The pressure \\( P \\) exerted by ...   \n",
       "2    deepscaler_true  [{'content': 'The pressure \\( P \\) exerted by ...   \n",
       "3    deepscaler_true  [{'content': 'The pressure \\( P \\) exerted by ...   \n",
       "4    deepscaler_true  [{'content': 'The pressure \\( P \\) exerted by ...   \n",
       "..               ...                                                ...   \n",
       "123  deepscaler_true  [{'content': 'The pressure \\( P \\) exerted by ...   \n",
       "124  deepscaler_true  [{'content': 'The pressure \\( P \\) exerted by ...   \n",
       "125  deepscaler_true  [{'content': 'The pressure \\( P \\) exerted by ...   \n",
       "126  deepscaler_true  [{'content': 'The pressure \\( P \\) exerted by ...   \n",
       "127  deepscaler_true  [{'content': 'The pressure \\( P \\) exerted by ...   \n",
       "\n",
       "    ability                                       reward_model  \\\n",
       "0      math  {'ground_truth': '8\\sqrt[3]{4}', 'style': 'rule'}   \n",
       "1      math  {'ground_truth': '8\\sqrt[3]{4}', 'style': 'rule'}   \n",
       "2      math  {'ground_truth': '8\\sqrt[3]{4}', 'style': 'rule'}   \n",
       "3      math  {'ground_truth': '8\\sqrt[3]{4}', 'style': 'rule'}   \n",
       "4      math  {'ground_truth': '8\\sqrt[3]{4}', 'style': 'rule'}   \n",
       "..      ...                                                ...   \n",
       "123    math  {'ground_truth': '8\\sqrt[3]{4}', 'style': 'rule'}   \n",
       "124    math  {'ground_truth': '8\\sqrt[3]{4}', 'style': 'rule'}   \n",
       "125    math  {'ground_truth': '8\\sqrt[3]{4}', 'style': 'rule'}   \n",
       "126    math  {'ground_truth': '8\\sqrt[3]{4}', 'style': 'rule'}   \n",
       "127    math  {'ground_truth': '8\\sqrt[3]{4}', 'style': 'rule'}   \n",
       "\n",
       "                           extra_info  \n",
       "0    {'index': 124, 'split': 'train'}  \n",
       "1    {'index': 124, 'split': 'train'}  \n",
       "2    {'index': 124, 'split': 'train'}  \n",
       "3    {'index': 124, 'split': 'train'}  \n",
       "4    {'index': 124, 'split': 'train'}  \n",
       "..                                ...  \n",
       "123  {'index': 124, 'split': 'train'}  \n",
       "124  {'index': 124, 'split': 'train'}  \n",
       "125  {'index': 124, 'split': 'train'}  \n",
       "126  {'index': 124, 'split': 'train'}  \n",
       "127  {'index': 124, 'split': 'train'}  \n",
       "\n",
       "[128 rows x 5 columns]"
      ]
     },
     "execution_count": 19,
     "metadata": {},
     "output_type": "execute_result"
    }
   ],
   "source": [
    "filtered_df"
   ]
  },
  {
   "cell_type": "code",
   "execution_count": 20,
   "id": "ef66d59a",
   "metadata": {},
   "outputs": [],
   "source": [
    "filtered_df.to_parquet(\"/home/aiops/chenxw/verl/data/train/one_shot_rlvr/true_pi1_dsr.parquet\")"
   ]
  },
  {
   "cell_type": "code",
   "execution_count": 4,
   "id": "6115efd7",
   "metadata": {},
   "outputs": [],
   "source": [
    "import pandas as pd\n",
    "\n",
    "test_file = \"/home/aiops/chenxw/verl/data/train/one_shot_rlvr/true_pi4_aime.parquet\"\n",
    "df = pd.read_parquet(test_file)\n"
   ]
  },
  {
   "cell_type": "code",
   "execution_count": 5,
   "id": "8ece61a2",
   "metadata": {},
   "outputs": [
    {
     "data": {
      "text/html": [
       "<div>\n",
       "<style scoped>\n",
       "    .dataframe tbody tr th:only-of-type {\n",
       "        vertical-align: middle;\n",
       "    }\n",
       "\n",
       "    .dataframe tbody tr th {\n",
       "        vertical-align: top;\n",
       "    }\n",
       "\n",
       "    .dataframe thead th {\n",
       "        text-align: right;\n",
       "    }\n",
       "</style>\n",
       "<table border=\"1\" class=\"dataframe\">\n",
       "  <thead>\n",
       "    <tr style=\"text-align: right;\">\n",
       "      <th></th>\n",
       "      <th>data_source</th>\n",
       "      <th>prompt</th>\n",
       "      <th>ability</th>\n",
       "      <th>reward_model</th>\n",
       "      <th>extra_info</th>\n",
       "    </tr>\n",
       "  </thead>\n",
       "  <tbody>\n",
       "    <tr>\n",
       "      <th>0</th>\n",
       "      <td>deepscaler</td>\n",
       "      <td>[{'content': 'Define $f(x)=|| x|-\\tfrac{1}{2}|...</td>\n",
       "      <td>math</td>\n",
       "      <td>{'ground_truth': '385', 'style': 'rule'}</td>\n",
       "      <td>{'index': 0, 'split': 'train'}</td>\n",
       "    </tr>\n",
       "    <tr>\n",
       "      <th>1</th>\n",
       "      <td>deepscaler</td>\n",
       "      <td>[{'content': 'Define $f(x)=|| x|-\\tfrac{1}{2}|...</td>\n",
       "      <td>math</td>\n",
       "      <td>{'ground_truth': '385', 'style': 'rule'}</td>\n",
       "      <td>{'index': 0, 'split': 'train'}</td>\n",
       "    </tr>\n",
       "    <tr>\n",
       "      <th>2</th>\n",
       "      <td>deepscaler</td>\n",
       "      <td>[{'content': 'Define $f(x)=|| x|-\\tfrac{1}{2}|...</td>\n",
       "      <td>math</td>\n",
       "      <td>{'ground_truth': '385', 'style': 'rule'}</td>\n",
       "      <td>{'index': 0, 'split': 'train'}</td>\n",
       "    </tr>\n",
       "    <tr>\n",
       "      <th>3</th>\n",
       "      <td>deepscaler</td>\n",
       "      <td>[{'content': 'Define $f(x)=|| x|-\\tfrac{1}{2}|...</td>\n",
       "      <td>math</td>\n",
       "      <td>{'ground_truth': '385', 'style': 'rule'}</td>\n",
       "      <td>{'index': 0, 'split': 'train'}</td>\n",
       "    </tr>\n",
       "    <tr>\n",
       "      <th>4</th>\n",
       "      <td>deepscaler</td>\n",
       "      <td>[{'content': 'Define $f(x)=|| x|-\\tfrac{1}{2}|...</td>\n",
       "      <td>math</td>\n",
       "      <td>{'ground_truth': '385', 'style': 'rule'}</td>\n",
       "      <td>{'index': 0, 'split': 'train'}</td>\n",
       "    </tr>\n",
       "  </tbody>\n",
       "</table>\n",
       "</div>"
      ],
      "text/plain": [
       "  data_source                                             prompt ability  \\\n",
       "0  deepscaler  [{'content': 'Define $f(x)=|| x|-\\tfrac{1}{2}|...    math   \n",
       "1  deepscaler  [{'content': 'Define $f(x)=|| x|-\\tfrac{1}{2}|...    math   \n",
       "2  deepscaler  [{'content': 'Define $f(x)=|| x|-\\tfrac{1}{2}|...    math   \n",
       "3  deepscaler  [{'content': 'Define $f(x)=|| x|-\\tfrac{1}{2}|...    math   \n",
       "4  deepscaler  [{'content': 'Define $f(x)=|| x|-\\tfrac{1}{2}|...    math   \n",
       "\n",
       "                               reward_model                      extra_info  \n",
       "0  {'ground_truth': '385', 'style': 'rule'}  {'index': 0, 'split': 'train'}  \n",
       "1  {'ground_truth': '385', 'style': 'rule'}  {'index': 0, 'split': 'train'}  \n",
       "2  {'ground_truth': '385', 'style': 'rule'}  {'index': 0, 'split': 'train'}  \n",
       "3  {'ground_truth': '385', 'style': 'rule'}  {'index': 0, 'split': 'train'}  \n",
       "4  {'ground_truth': '385', 'style': 'rule'}  {'index': 0, 'split': 'train'}  "
      ]
     },
     "execution_count": 5,
     "metadata": {},
     "output_type": "execute_result"
    }
   ],
   "source": [
    "df.head()"
   ]
  },
  {
   "cell_type": "code",
   "execution_count": 1,
   "id": "73b72a8e",
   "metadata": {},
   "outputs": [],
   "source": [
    "from verl.utils.reward_score import deepscaler"
   ]
  },
  {
   "cell_type": "code",
   "execution_count": 2,
   "id": "5021ca17",
   "metadata": {},
   "outputs": [
    {
     "data": {
      "text/plain": [
       "0.0"
      ]
     },
     "execution_count": 2,
     "metadata": {},
     "output_type": "execute_result"
    }
   ],
   "source": [
    "deepscaler.compute_score(None, r'\\boxed{12.7}', r'8\\sqrt[3]{4}')"
   ]
  },
  {
   "cell_type": "code",
   "execution_count": 3,
   "id": "4db60857",
   "metadata": {},
   "outputs": [],
   "source": [
    "from verl.utils.reward_score import prime_math"
   ]
  },
  {
   "cell_type": "code",
   "execution_count": 11,
   "id": "28687b10",
   "metadata": {},
   "outputs": [
    {
     "data": {
      "text/plain": [
       "(True, False, '(1,      12.699)')"
      ]
     },
     "execution_count": 11,
     "metadata": {},
     "output_type": "execute_result"
    }
   ],
   "source": [
    "prime_math.compute_score(r'\\boxed{(1,      12.699)}', r'(1,8\\sqrt[3]{4})')"
   ]
  },
  {
   "cell_type": "code",
   "execution_count": null,
   "id": "8d74321c",
   "metadata": {},
   "outputs": [],
   "source": []
  }
 ],
 "metadata": {
  "kernelspec": {
   "display_name": "verl",
   "language": "python",
   "name": "python3"
  },
  "language_info": {
   "codemirror_mode": {
    "name": "ipython",
    "version": 3
   },
   "file_extension": ".py",
   "mimetype": "text/x-python",
   "name": "python",
   "nbconvert_exporter": "python",
   "pygments_lexer": "ipython3",
   "version": "3.10.16"
  }
 },
 "nbformat": 4,
 "nbformat_minor": 5
}
